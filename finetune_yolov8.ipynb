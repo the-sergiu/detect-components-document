{
 "cells": [
  {
   "cell_type": "code",
   "execution_count": 1,
   "id": "96cc7d5b-7bf6-4c47-8c55-c4192a570c44",
   "metadata": {},
   "outputs": [],
   "source": [
    "from ultralytics import YOLO"
   ]
  },
  {
   "cell_type": "markdown",
   "id": "00b135c5-fffc-4181-858c-be15c44ae7fa",
   "metadata": {},
   "source": [
    "### Experiments\n",
    "- YOLOv8n - 7 epochs - train2 (wandb) - mAP50:0.95 - mAP50-95: 0.849\n",
    "- YOLOv8m - 100 epochs - train 4 (wandb) - mAP50:0.975 - mAP50-95: 0.902, ar fi fost mult mai mare daca nu era media 0.782 pe clasa titluri\n",
    "\n",
    "- YOLOv8x - \n",
    "\n",
    "Model comparison: https://docs.ultralytics.com/tasks/detect/#models"
   ]
  },
  {
   "cell_type": "code",
   "execution_count": 3,
   "id": "9bba2760-8ac8-47ef-80a2-c1aa824f73be",
   "metadata": {},
   "outputs": [],
   "source": [
    "# Select YOLO model\n",
    "yolo = YOLO('yolov8s-best.pt')"
   ]
  },
  {
   "cell_type": "markdown",
   "id": "a24def6f-5792-4b27-a2f1-6e0380f1fa96",
   "metadata": {},
   "source": [
    "### There's a trick here - we have to change the default directory of YOLO datasets :\n",
    "From the following path: `/home/sergiu/.config/Ultralytics/settings.yaml`\n",
    "\n",
    "And set it to current dataset path:`/mnt/c/Users/Sergiu/Desktop/detect-components-document/yolov8`\n"
   ]
  },
  {
   "cell_type": "code",
   "execution_count": 5,
   "id": "84620971-50b2-4fcb-98e9-28e742be4f91",
   "metadata": {},
   "outputs": [],
   "source": [
    "# Fine-tune\n",
    "# yolo.train(data='custom.yaml', epochs=200)"
   ]
  },
  {
   "cell_type": "code",
   "execution_count": 4,
   "id": "c281aa58-342e-4545-95ca-24c2426357c5",
   "metadata": {},
   "outputs": [
    {
     "name": "stdout",
     "output_type": "stream",
     "text": [
      "Ultralytics YOLOv8.2.17 🚀 Python-3.10.8 torch-1.13.0+cu116 CUDA:0 (NVIDIA GeForce RTX 3090, 24575MiB)\n",
      "Model summary (fused): 168 layers, 11127519 parameters, 0 gradients, 28.4 GFLOPs\n"
     ]
    },
    {
     "name": "stderr",
     "output_type": "stream",
     "text": [
      "\u001b[34m\u001b[1mval: \u001b[0mScanning /mnt/c/Users/Sergiu/Desktop/detect-components-document/yolov8/data/val.cache... 6634 images, 0 backgrounds\u001b[0m"
     ]
    },
    {
     "name": "stdout",
     "output_type": "stream",
     "text": [
      "\u001b[34m\u001b[1mval: \u001b[0mWARNING ⚠️ /mnt/c/Users/Sergiu/Desktop/detect-components-document/yolov8/data/val/PMC2503986_00002.jpg: 1 duplicate labels removed\n"
     ]
    },
    {
     "name": "stderr",
     "output_type": "stream",
     "text": [
      "\n",
      "                 Class     Images  Instances      Box(P          R      mAP50  mAP50-95): 100%|██████████| 415/415 [00:4\n"
     ]
    },
    {
     "name": "stdout",
     "output_type": "stream",
     "text": [
      "                   all       6634      64127      0.964       0.95      0.976      0.908\n",
      "                  Text       6634      45978      0.964       0.96      0.987      0.944\n",
      "                 Title       6634      12308      0.962      0.954      0.981      0.789\n",
      "                  List       6634       1707      0.942      0.882      0.939      0.887\n",
      "                 Table       6634       2031      0.969      0.977      0.985      0.952\n",
      "                Figure       6634       2103      0.983       0.98      0.989      0.965\n",
      "Speed: 0.1ms preprocess, 1.9ms inference, 0.0ms loss, 0.7ms postprocess per image\n",
      "Results saved to \u001b[1m/mnt/c/Users/Sergiu/Desktop/detect-components-document/runs/detect/val\u001b[0m\n"
     ]
    }
   ],
   "source": [
    "# Validate results\n",
    "valid_results = yolo.val(data='custom.yaml')"
   ]
  },
  {
   "cell_type": "code",
   "execution_count": null,
   "id": "d2a26fb2-dcca-48fd-8b3e-eb2dc243ee69",
   "metadata": {},
   "outputs": [],
   "source": [
    "print(valid_results.plot)"
   ]
  },
  {
   "cell_type": "markdown",
   "id": "75cf45f3-a4e3-4c7a-9054-fb2ab956be65",
   "metadata": {},
   "source": [
    "### TODO: How to plot predictions on validation images?"
   ]
  },
  {
   "cell_type": "code",
   "execution_count": 7,
   "id": "bb2ba3ef-fb2e-4239-befd-1d2399bd074c",
   "metadata": {},
   "outputs": [
    {
     "name": "stdout",
     "output_type": "stream",
     "text": [
      "WARNING ⚠️ 'source' is missing. Using 'source=/mnt/c/Users/Sergiu/Desktop/AnomalyDetection/venv/lib/python3.10/site-packages/ultralytics/assets'.\n",
      "\n",
      "image 1/2 /mnt/c/Users/Sergiu/Desktop/AnomalyDetection/venv/lib/python3.10/site-packages/ultralytics/assets/bus.jpg: 640x480 1 Figure, 50.6ms\n",
      "image 2/2 /mnt/c/Users/Sergiu/Desktop/AnomalyDetection/venv/lib/python3.10/site-packages/ultralytics/assets/zidane.jpg: 384x640 1 Figure, 30.6ms\n",
      "Speed: 1.7ms preprocess, 40.6ms inference, 1.3ms postprocess per image at shape (1, 3, 384, 640)\n"
     ]
    }
   ],
   "source": [
    "results = yolo.predict(data='custom.yaml')"
   ]
  },
  {
   "cell_type": "code",
   "execution_count": 9,
   "id": "58a39dc3-433d-4316-a99e-599ae8af4148",
   "metadata": {},
   "outputs": [
    {
     "data": {
      "text/plain": [
       "[ultralytics.engine.results.Results object with attributes:\n",
       " \n",
       " boxes: ultralytics.engine.results.Boxes object\n",
       " keypoints: None\n",
       " masks: None\n",
       " names: {0: 'Text', 1: 'Title', 2: 'List', 3: 'Table', 4: 'Figure'}\n",
       " obb: None\n",
       " orig_img: array([[[119, 146, 172],\n",
       "         [121, 148, 174],\n",
       "         [122, 152, 177],\n",
       "         ...,\n",
       "         [161, 171, 188],\n",
       "         [160, 170, 187],\n",
       "         [160, 170, 187]],\n",
       " \n",
       "        [[120, 147, 173],\n",
       "         [122, 149, 175],\n",
       "         [123, 153, 178],\n",
       "         ...,\n",
       "         [161, 171, 188],\n",
       "         [160, 170, 187],\n",
       "         [160, 170, 187]],\n",
       " \n",
       "        [[123, 150, 176],\n",
       "         [124, 151, 177],\n",
       "         [125, 155, 180],\n",
       "         ...,\n",
       "         [161, 171, 188],\n",
       "         [160, 170, 187],\n",
       "         [160, 170, 187]],\n",
       " \n",
       "        ...,\n",
       " \n",
       "        [[183, 182, 186],\n",
       "         [179, 178, 182],\n",
       "         [180, 179, 183],\n",
       "         ...,\n",
       "         [121, 111, 117],\n",
       "         [113, 103, 109],\n",
       "         [115, 105, 111]],\n",
       " \n",
       "        [[165, 164, 168],\n",
       "         [173, 172, 176],\n",
       "         [187, 186, 190],\n",
       "         ...,\n",
       "         [102,  92,  98],\n",
       "         [101,  91,  97],\n",
       "         [103,  93,  99]],\n",
       " \n",
       "        [[123, 122, 126],\n",
       "         [145, 144, 148],\n",
       "         [176, 175, 179],\n",
       "         ...,\n",
       "         [ 95,  85,  91],\n",
       "         [ 96,  86,  92],\n",
       "         [ 98,  88,  94]]], dtype=uint8)\n",
       " orig_shape: (1080, 810)\n",
       " path: '/mnt/c/Users/Sergiu/Desktop/AnomalyDetection/venv/lib/python3.10/site-packages/ultralytics/assets/bus.jpg'\n",
       " probs: None\n",
       " save_dir: '/mnt/c/Users/Sergiu/Desktop/detect-components-document/runs/detect/predict'\n",
       " speed: {'preprocess': 1.8949508666992188, 'inference': 50.55999755859375, 'postprocess': 1.3155937194824219},\n",
       " ultralytics.engine.results.Results object with attributes:\n",
       " \n",
       " boxes: ultralytics.engine.results.Boxes object\n",
       " keypoints: None\n",
       " masks: None\n",
       " names: {0: 'Text', 1: 'Title', 2: 'List', 3: 'Table', 4: 'Figure'}\n",
       " obb: None\n",
       " orig_img: array([[[44, 51, 76],\n",
       "         [43, 50, 75],\n",
       "         [41, 48, 73],\n",
       "         ...,\n",
       "         [20, 18, 54],\n",
       "         [18, 16, 52],\n",
       "         [17, 15, 51]],\n",
       " \n",
       "        [[44, 51, 76],\n",
       "         [43, 50, 75],\n",
       "         [41, 48, 73],\n",
       "         ...,\n",
       "         [20, 18, 54],\n",
       "         [18, 16, 52],\n",
       "         [18, 16, 52]],\n",
       " \n",
       "        [[44, 51, 76],\n",
       "         [43, 50, 75],\n",
       "         [41, 48, 73],\n",
       "         ...,\n",
       "         [21, 18, 57],\n",
       "         [19, 16, 55],\n",
       "         [18, 15, 54]],\n",
       " \n",
       "        ...,\n",
       " \n",
       "        [[53, 44, 40],\n",
       "         [52, 43, 39],\n",
       "         [51, 42, 38],\n",
       "         ...,\n",
       "         [50, 50, 38],\n",
       "         [51, 51, 39],\n",
       "         [52, 52, 40]],\n",
       " \n",
       "        [[53, 44, 40],\n",
       "         [52, 43, 39],\n",
       "         [51, 42, 38],\n",
       "         ...,\n",
       "         [50, 50, 38],\n",
       "         [51, 51, 39],\n",
       "         [52, 52, 40]],\n",
       " \n",
       "        [[53, 44, 40],\n",
       "         [52, 43, 39],\n",
       "         [51, 42, 38],\n",
       "         ...,\n",
       "         [49, 49, 37],\n",
       "         [51, 51, 39],\n",
       "         [52, 52, 40]]], dtype=uint8)\n",
       " orig_shape: (720, 1280)\n",
       " path: '/mnt/c/Users/Sergiu/Desktop/AnomalyDetection/venv/lib/python3.10/site-packages/ultralytics/assets/zidane.jpg'\n",
       " probs: None\n",
       " save_dir: '/mnt/c/Users/Sergiu/Desktop/detect-components-document/runs/detect/predict'\n",
       " speed: {'preprocess': 1.589059829711914, 'inference': 30.567646026611328, 'postprocess': 1.2443065643310547}]"
      ]
     },
     "execution_count": 9,
     "metadata": {},
     "output_type": "execute_result"
    }
   ],
   "source": [
    "results"
   ]
  },
  {
   "cell_type": "code",
   "execution_count": null,
   "id": "13e30fc3-3634-4c08-8ecb-b5fbca641041",
   "metadata": {},
   "outputs": [],
   "source": []
  }
 ],
 "metadata": {
  "kernelspec": {
   "display_name": "Python 3 (ipykernel)",
   "language": "python",
   "name": "python3"
  },
  "language_info": {
   "codemirror_mode": {
    "name": "ipython",
    "version": 3
   },
   "file_extension": ".py",
   "mimetype": "text/x-python",
   "name": "python",
   "nbconvert_exporter": "python",
   "pygments_lexer": "ipython3",
   "version": "3.10.8"
  }
 },
 "nbformat": 4,
 "nbformat_minor": 5
}
